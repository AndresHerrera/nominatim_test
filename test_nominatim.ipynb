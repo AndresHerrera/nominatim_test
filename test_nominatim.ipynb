{
 "cells": [
  {
   "cell_type": "code",
   "execution_count": 146,
   "id": "07b9c662",
   "metadata": {},
   "outputs": [],
   "source": [
    "import requests\n",
    "import json\n",
    "import urllib.parse"
   ]
  },
  {
   "cell_type": "code",
   "execution_count": 197,
   "id": "62ad700f",
   "metadata": {},
   "outputs": [],
   "source": [
    "city = \"Cali\"\n",
    "def geoCodeAddress(street):\n",
    "    with open('geocode/results.txt', 'a') as f:\n",
    "        streetfix = urllib.parse.quote(street)\n",
    "        url = f'https://nominatim.openstreetmap.org/search.php?q={city}+{streetfix}&format=jsonv2'\n",
    "        r = requests.get(url)\n",
    "        data = r.json()\n",
    "        if data[0]['importance']>0:\n",
    "            lat=data[0]['lat']\n",
    "            lon=data[0]['lon']\n",
    "            dsplay=data[0]['display_name']\n",
    "            imp=data[0]['importance']\n",
    "            output= (\"%s | %s | %s | %s | %s \\n\" % (street,lat,lon,imp,dsplay))\n",
    "            f.write(output)"
   ]
  },
  {
   "cell_type": "code",
   "execution_count": 198,
   "id": "c3285fbb",
   "metadata": {},
   "outputs": [],
   "source": [
    "with open(\"geocode/targets.txt\", 'r') as f:\n",
    "    for line in f:\n",
    "        try:\n",
    "            geoCodeAddress(line.replace(\"\\n\", \"\"))\n",
    "        except:\n",
    "            continue"
   ]
  },
  {
   "cell_type": "code",
   "execution_count": null,
   "id": "156e9834",
   "metadata": {},
   "outputs": [],
   "source": []
  }
 ],
 "metadata": {
  "kernelspec": {
   "display_name": "Python 3",
   "language": "python",
   "name": "python3"
  },
  "language_info": {
   "codemirror_mode": {
    "name": "ipython",
    "version": 3
   },
   "file_extension": ".py",
   "mimetype": "text/x-python",
   "name": "python",
   "nbconvert_exporter": "python",
   "pygments_lexer": "ipython3",
   "version": "3.8.13"
  }
 },
 "nbformat": 4,
 "nbformat_minor": 5
}
